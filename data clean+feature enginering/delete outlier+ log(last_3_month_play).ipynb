{
 "cells": [
  {
   "cell_type": "code",
   "execution_count": 3,
   "metadata": {},
   "outputs": [],
   "source": [
    "import pandas as pd\n",
    "import numpy as np\n",
    "from datetime import datetime\n",
    "from datetime import date"
   ]
  },
  {
   "cell_type": "code",
   "execution_count": 4,
   "metadata": {},
   "outputs": [],
   "source": [
    "data = pd.read_csv('data_v3_addtext.csv')\n",
    "data.created = data.created.map(lambda x: datetime.strptime(x, '%Y-%m-%d %H:%M:%S'))\n",
    "data['created_iso_yr'] = data.created.map(lambda x: x.date().isocalendar()[0])\n",
    "data['created_mo'] = data.created.map(lambda x: x.date().month)\n",
    "data['created_mo_day'] = data.created.map(lambda x: x.date().day)\n",
    "data['created_iso_wk'] = data.created.map(lambda x: x.date().isocalendar()[1])\n",
    "data['date'] = data.created.map(lambda x: x.date())\n",
    "\n",
    "useless_cols = ['aid', 'author', 'bvid', 'created', \n",
    "                'follower', 'likes', 'play',\n",
    "                'description', 'title', 'typeid',\n",
    "                'top1','top2','top3',\n",
    "                'top1_count', 'top2_count', 'top3_count','count_sum','video_review','comment']\n",
    "data = data.drop(useless_cols, axis = 1)\n",
    "### log last3monthplay\n",
    "data.last_3month_play.replace(0.0,1.0,inplace=True)\n",
    "data.last_3month_play=np.log(data.last_3month_play)\n",
    "data=data[data['length']<1000]\n",
    "data.to_csv('data_v4_addtext.csv')"
   ]
  },
  {
   "cell_type": "code",
   "execution_count": null,
   "metadata": {},
   "outputs": [],
   "source": []
  }
 ],
 "metadata": {
  "kernelspec": {
   "display_name": "Python 3",
   "language": "python",
   "name": "python3"
  },
  "language_info": {
   "codemirror_mode": {
    "name": "ipython",
    "version": 3
   },
   "file_extension": ".py",
   "mimetype": "text/x-python",
   "name": "python",
   "nbconvert_exporter": "python",
   "pygments_lexer": "ipython3",
   "version": "3.7.4"
  }
 },
 "nbformat": 4,
 "nbformat_minor": 2
}
