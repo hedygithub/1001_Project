{
 "cells": [
  {
   "cell_type": "code",
   "execution_count": 1,
   "metadata": {
    "scrolled": true
   },
   "outputs": [],
   "source": [
    "import pandas as pd\n",
    "data = pd.read_csv('data_df.csv',index_col=0)\n",
    "data.typeid=data.typeid.astype(int) \n",
    "data=data[data.typeid!=210]"
   ]
  },
  {
   "cell_type": "markdown",
   "metadata": {},
   "source": [
    "#### covert type id to category name"
   ]
  },
  {
   "cell_type": "code",
   "execution_count": 2,
   "metadata": {},
   "outputs": [],
   "source": [
    "typeid={76:'美食圈',138:'搞笑', 212:'美食侦探',21:'日常' ,213:'美食测评', 215:'美食记录', 157:'美妆', 168:'国产原创相关', 214:'田园美食',\n",
    "        201:'科学科普', 164:'健身', 17:'单机游戏',  31:'翻唱', 71:'综艺',180:'社会·美食·旅行', 154:'舞蹈综合', 158:'服饰', 173:'桌游棋牌',  \n",
    "            75:'动物圈', 174:'其他', 29:'音乐现场', 183:'影视剪辑',130:'音乐综合',137:'明星',162:'绘画',65:'网络游戏',28:'原创音乐',\n",
    "        20:'宅舞',  47:'短片·手书·配音', 161:'手工', 122:'野生技术协会', 124:'社科人文', 208:'校园学习',  95:'手机平板', 163:'运动',  \n",
    "        27:'综合',  85:'短片', 172:'手机游戏',  59:'演奏',199:'明星舞蹈', 178:'科学·探索·自然', 184:'预告·资讯', 193:'MV', 176:'汽车', \n",
    "        182:'影视杂谈', 171:'电子竞技', 189:'电脑装机', 192:'风尚标', 136:'音游', 205:'社会', 191:'影音智能', 207:'财经',209:'职业职场',  \n",
    "        22:'鬼畜调教', 37:'人文·历史', 190:'摄影摄像'}"
   ]
  },
  {
   "cell_type": "code",
   "execution_count": 3,
   "metadata": {},
   "outputs": [],
   "source": [
    "values=data.typeid.values\n",
    "for va in values:\n",
    "    data['typeid']=data.typeid.replace(va,typeid[va])"
   ]
  },
  {
   "cell_type": "code",
   "execution_count": 4,
   "metadata": {},
   "outputs": [],
   "source": [
    "data1=data\n",
    "data1.to_csv('clean1.csv')"
   ]
  },
  {
   "cell_type": "markdown",
   "metadata": {},
   "source": [
    "#### convert timestamp to datetime"
   ]
  },
  {
   "cell_type": "code",
   "execution_count": 5,
   "metadata": {},
   "outputs": [],
   "source": [
    "from datetime import datetime\n",
    "import numpy as np\n",
    "\n",
    "time = data1.created.values.astype(int)\n",
    "for t in time:\n",
    "    data1['created']= data1.created.replace(t, datetime.fromtimestamp(t))\n",
    "data2=data1"
   ]
  },
  {
   "cell_type": "code",
   "execution_count": 6,
   "metadata": {},
   "outputs": [],
   "source": [
    "data2.to_csv('clean2.csv')"
   ]
  },
  {
   "cell_type": "markdown",
   "metadata": {},
   "source": [
    "#### convert length to seconds(int)"
   ]
  },
  {
   "cell_type": "code",
   "execution_count": 7,
   "metadata": {},
   "outputs": [],
   "source": [
    "data2=pd.read_csv('clean2.csv',index_col=0)"
   ]
  },
  {
   "cell_type": "code",
   "execution_count": 8,
   "metadata": {},
   "outputs": [],
   "source": [
    "\n",
    "def time_convert(x):\n",
    "    times = x.split(':')\n",
    "    return 60*int(times[0])+int(times[1])\n",
    "data2['length'] = data2['length'].fillna('00:00').apply(time_convert)\n",
    "data3=data2"
   ]
  },
  {
   "cell_type": "code",
   "execution_count": 13,
   "metadata": {},
   "outputs": [],
   "source": [
    "data3.to_csv('clean3.csv')"
   ]
  },
  {
   "cell_type": "markdown",
   "metadata": {},
   "source": [
    "#### convert the data type and drop useless columns  and nan"
   ]
  },
  {
   "cell_type": "code",
   "execution_count": 9,
   "metadata": {},
   "outputs": [
    {
     "name": "stderr",
     "output_type": "stream",
     "text": [
      "/opt/anaconda3/lib/python3.7/site-packages/pandas/core/generic.py:5208: SettingWithCopyWarning: \n",
      "A value is trying to be set on a copy of a slice from a DataFrame.\n",
      "Try using .loc[row_indexer,col_indexer] = value instead\n",
      "\n",
      "See the caveats in the documentation: http://pandas.pydata.org/pandas-docs/stable/user_guide/indexing.html#returning-a-view-versus-a-copy\n",
      "  self[name] = value\n"
     ]
    }
   ],
   "source": [
    "data3=pd.read_csv('clean3.csv',index_col=0)\n",
    "data4=data3[data3.video_review.notnull()]\n",
    "data4.follower=data4.follower.astype(int) \n",
    "data4.likes=data4.likes.astype(int)\n",
    "data4.play=data4.play.astype(int)\n",
    "data4.video_review=data4.video_review.astype(int)\n",
    "data4.comment=data4.comment.astype(int)\n",
    "data4=data4[['aid', 'author', 'bvid','cat1','cat1_count','cat2','cat2_count','cat3','cat3_count','cat4','cat4_count','cat5',\n",
    "      'cat5_count','cat6','cat6_count','cat7','cat7_count','cat8','cat8_count','cat9','cat9_count',\n",
    "      'cat10','cat10_count','cat11','cat11_count','cat12','cat12_count','cat13','cat13_count',\n",
    "      'cat14','cat14_count','cat15','cat15_count','created','description','comment','follower','length', 'likes','play','title', 'typeid', 'video_review' ]]\n",
    "data4.to_csv('clean4.csv')"
   ]
  },
  {
   "cell_type": "markdown",
   "metadata": {},
   "source": [
    "####  select top3 category of each author from categeory1-15 by categeory count "
   ]
  },
  {
   "cell_type": "code",
   "execution_count": 2,
   "metadata": {},
   "outputs": [],
   "source": [
    "import pandas as pd\n",
    "data4=pd.read_csv('clean4.csv',index_col=0)\n",
    "data5=data4[['cat1_count','cat2_count','cat3_count','cat4_count',\n",
    "      'cat5_count','cat6_count','cat7_count','cat8_count','cat9_count',\n",
    "      'cat10_count','cat11_count','cat12_count','cat13_count',\n",
    "      'cat14_count','cat15_count']]"
   ]
  },
  {
   "cell_type": "code",
   "execution_count": 12,
   "metadata": {
    "scrolled": true
   },
   "outputs": [],
   "source": [
    "import numpy as np\n",
    "data4['top1']=0\n",
    "data4['top1_count']=0\n",
    "data4['top2']=0\n",
    "data4['top2_count']=0\n",
    "data4['top3']=0\n",
    "data4['top3_count']=0\n",
    "for i in range(len(data4)):\n",
    "    v=data5.iloc[i].tolist()\n",
    "    sort=np.argsort(v)[::-1][0:3]\n",
    "    data4.iloc[i,-6] = data4.iloc[i]['cat{}'.format(sort[0]+1)] #取值\n",
    "    data4.iloc[i,-5]=data4.iloc[i]['cat{}_count'.format(sort[0]+1)]\n",
    "    data4.iloc[i,-4]=data4.iloc[i]['cat{}'.format(sort[1]+1)]\n",
    "    data4.iloc[i,-3]=data4.iloc[i]['cat{}_count'.format(sort[1]+1)]\n",
    "    data4.iloc[i,-2]=data4.iloc[i]['cat{}'.format(sort[2]+1)]\n",
    "    data4.iloc[i,-1]=data4.iloc[i]['cat{}_count'.format(sort[2]+1)]\n",
    "    "
   ]
  },
  {
   "cell_type": "code",
   "execution_count": 13,
   "metadata": {},
   "outputs": [],
   "source": [
    "data4=data4.drop(['cat1','cat1_count','cat2','cat2_count','cat3','cat3_count','cat4','cat4_count','cat5',\n",
    "      'cat5_count','cat6','cat6_count','cat7','cat7_count','cat8','cat8_count','cat9','cat9_count',\n",
    "      'cat10','cat10_count','cat11','cat11_count','cat12','cat12_count','cat13','cat13_count',\n",
    "      'cat14','cat14_count','cat15','cat15_count'],1)\n",
    "\n",
    "data4.to_csv('clean5.csv')"
   ]
  },
  {
   "cell_type": "code",
   "execution_count": 14,
   "metadata": {
    "scrolled": true
   },
   "outputs": [],
   "source": [
    "data4=pd.read_csv('clean5.csv',index_col=0)\n",
    "data4.replace('ç¾�é£Ÿ','美食',inplace=True)\n",
    "data4.replace('ç”Ÿæ´»','生活',inplace=True)\n",
    "\n",
    "data4.replace('æ¸¸æˆ�','游戏',inplace=True)\n",
    "data4.replace('åŠ¨ç”»','动画',inplace=True)\n",
    "data4.to_csv('clean6.csv')\n"
   ]
  },
  {
   "cell_type": "code",
   "execution_count": null,
   "metadata": {},
   "outputs": [],
   "source": []
  }
 ],
 "metadata": {
  "kernelspec": {
   "display_name": "Python 3",
   "language": "python",
   "name": "python3"
  },
  "language_info": {
   "codemirror_mode": {
    "name": "ipython",
    "version": 3
   },
   "file_extension": ".py",
   "mimetype": "text/x-python",
   "name": "python",
   "nbconvert_exporter": "python",
   "pygments_lexer": "ipython3",
   "version": "3.7.4"
  }
 },
 "nbformat": 4,
 "nbformat_minor": 2
}
