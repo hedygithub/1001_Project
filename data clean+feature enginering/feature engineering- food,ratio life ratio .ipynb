{
 "cells": [
  {
   "cell_type": "code",
   "execution_count": 1,
   "metadata": {},
   "outputs": [],
   "source": [
    "import pandas as pd"
   ]
  },
  {
   "cell_type": "code",
   "execution_count": 8,
   "metadata": {},
   "outputs": [],
   "source": [
    "data=pd.read_csv('clean6c.csv',index_col=0)"
   ]
  },
  {
   "cell_type": "code",
   "execution_count": 9,
   "metadata": {},
   "outputs": [
    {
     "data": {
      "text/plain": [
       "美食圈     8976\n",
       "美食测评    4141\n",
       "美食侦探    3732\n",
       "日常      2649\n",
       "田园美食    1325\n",
       "搞笑       657\n",
       "美食记录     609\n",
       "单机游戏     245\n",
       "动物圈      245\n",
       "美妆       106\n",
       "Name: typeid, dtype: int64"
      ]
     },
     "execution_count": 9,
     "metadata": {},
     "output_type": "execute_result"
    }
   ],
   "source": [
    "data.typeid.value_counts().head(10)"
   ]
  },
  {
   "cell_type": "markdown",
   "metadata": {},
   "source": [
    "### choose food ralated videos"
   ]
  },
  {
   "cell_type": "code",
   "execution_count": null,
   "metadata": {},
   "outputs": [],
   "source": [
    "import numpy as np\n",
    "data=data[(data.typeid=='美食圈') |(data.typeid=='美食测评')|(data.typeid=='美食侦探')|(data.typeid=='田园美食')\n",
    "     |(data.typeid=='美食记录')|(data.typeid=='日常')|(data.typeid=='搞笑')]\n",
    "data.index=np.arange(len(data))"
   ]
  },
  {
   "cell_type": "markdown",
   "metadata": {},
   "source": [
    "### calculate the food ratio and life ratio from top3 category"
   ]
  },
  {
   "cell_type": "code",
   "execution_count": 11,
   "metadata": {},
   "outputs": [],
   "source": [
    "import numpy as np\n",
    "data['count_sum']=data['top1_count']+data['top2_count']+data['top3_count']\n",
    "data['food_ratio']=np.zeros(len(data))\n",
    "data['life_ratio']=np.zeros(len(data))\n",
    "for i in ['top1','top2','top3']:\n",
    "    for j in range(len(data)):\n",
    "        if ('美食' in data.loc[j,i]):\n",
    "            data.loc[j,'food_ratio']=data.loc[j,i+'_count']/data.loc[j,'count_sum']\n",
    "        if ('生活' in data.loc[j,i]):\n",
    "            data.loc[j,'life_ratio']=data.loc[j,i+'_count']/data.loc[j,'count_sum']\n",
    "data.to_csv('clean7.csv')"
   ]
  },
  {
   "cell_type": "code",
   "execution_count": null,
   "metadata": {},
   "outputs": [],
   "source": []
  }
 ],
 "metadata": {
  "kernelspec": {
   "display_name": "Python 3",
   "language": "python",
   "name": "python3"
  },
  "language_info": {
   "codemirror_mode": {
    "name": "ipython",
    "version": 3
   },
   "file_extension": ".py",
   "mimetype": "text/x-python",
   "name": "python",
   "nbconvert_exporter": "python",
   "pygments_lexer": "ipython3",
   "version": "3.7.4"
  }
 },
 "nbformat": 4,
 "nbformat_minor": 2
}
