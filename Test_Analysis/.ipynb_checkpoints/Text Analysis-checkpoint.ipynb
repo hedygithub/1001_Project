{
 "cells": [
  {
   "cell_type": "code",
   "execution_count": 1,
   "metadata": {},
   "outputs": [],
   "source": [
    "import pandas as pd\n",
    "import numpy as np\n",
    "import csv"
   ]
  },
  {
   "cell_type": "code",
   "execution_count": 2,
   "metadata": {},
   "outputs": [],
   "source": [
    "import jieba.posseg as jp\n",
    "import jieba.analyse\n",
    "import jieba\n",
    "\n",
    "from gensim import corpora"
   ]
  },
  {
   "cell_type": "code",
   "execution_count": 3,
   "metadata": {},
   "outputs": [],
   "source": [
    "#Precess the data\n",
    "data = pd.read_csv('data_df.csv',index_col = 0)\n",
    "data_text = data.loc[:,['aid', 'title', 'description']]\n",
    "data_text.aid = data_text.aid.astype(int)\n",
    "data_text_cleaned = data_text.dropna(how = 'any')"
   ]
  },
  {
   "cell_type": "markdown",
   "metadata": {},
   "source": [
    "## Part 1: Pre-Processing"
   ]
  },
  {
   "cell_type": "markdown",
   "metadata": {},
   "source": [
    "###### 1) tokenlize"
   ]
  },
  {
   "cell_type": "code",
   "execution_count": 4,
   "metadata": {},
   "outputs": [],
   "source": [
    "flags = ('n', 'nr', 'ns', 'nt', 'ng','a', 'd', 'v') "
   ]
  },
  {
   "cell_type": "code",
   "execution_count": 5,
   "metadata": {},
   "outputs": [],
   "source": [
    "cn_stopword = [str(line.rstrip()) for line in open('cn_stopword.csv', encoding = 'UTF-8-sig')]\n",
    "bili_stopword = [str(line.rstrip()) for line in open('bili_stopword.csv', encoding = 'UTF-8-sig')]\n",
    "stopwords = cn_stopword + bili_stopword\n",
    "\n",
    "import csv\n",
    "with open(\"all_stopword.csv\", \"w\",  newline='', encoding='utf-8-sig') as f:\n",
    "    w = csv.writer(f)\n",
    "    for word in stopwords:\n",
    "        w.writerow([word])\n",
    "    f.close()"
   ]
  },
  {
   "cell_type": "code",
   "execution_count": 7,
   "metadata": {},
   "outputs": [],
   "source": [
    "# Token\n",
    "def get_text(texts):\n",
    "    words_list = []\n",
    "    for text in texts:\n",
    "        words = [w.word for w in jp.cut(text) if w.flag in flags and w.word not in stopwords]\n",
    "        words_list.append(words)\n",
    "    return words_list"
   ]
  },
  {
   "cell_type": "markdown",
   "metadata": {},
   "source": [
    "###### 2) add customized words\n",
    "note: some 'addword' will not be effective!! https://github.com/fxsjy/jieba/issues/536"
   ]
  },
  {
   "cell_type": "code",
   "execution_count": 8,
   "metadata": {},
   "outputs": [],
   "source": [
    "bili_addword = [str(line.rstrip()) for line in open('bili_tokenword.csv', encoding = 'UTF-8-sig')]"
   ]
  },
  {
   "cell_type": "code",
   "execution_count": 9,
   "metadata": {},
   "outputs": [
    {
     "name": "stderr",
     "output_type": "stream",
     "text": [
      "Building prefix dict from the default dictionary ...\n",
      "Loading model from cache C:\\Users\\HedyHe\\AppData\\Local\\Temp\\jieba.cache\n",
      "Loading model cost 1.641 seconds.\n",
      "Prefix dict has been built successfully.\n"
     ]
    }
   ],
   "source": [
    "for word in bili_addword:\n",
    "    jieba.add_word(word)"
   ]
  },
  {
   "cell_type": "markdown",
   "metadata": {},
   "source": [
    "######  3) processing"
   ]
  },
  {
   "cell_type": "code",
   "execution_count": 223,
   "metadata": {},
   "outputs": [],
   "source": [
    "words_list_desc = get_text(data_text_cleaned.description)\n",
    "words_list_title = get_text(data_text_cleaned.title)"
   ]
  },
  {
   "cell_type": "markdown",
   "metadata": {},
   "source": [
    "## Part 2: Models"
   ]
  },
  {
   "cell_type": "markdown",
   "metadata": {},
   "source": [
    "### Model 1: LDA\n",
    "seems not useful........"
   ]
  },
  {
   "cell_type": "code",
   "execution_count": 53,
   "metadata": {},
   "outputs": [],
   "source": [
    "from gensim import models"
   ]
  },
  {
   "cell_type": "code",
   "execution_count": 470,
   "metadata": {},
   "outputs": [],
   "source": [
    "# LDA Model\n",
    "def LDA_model(words_list,num_topics=5):  \n",
    "    # Dictionary: Dictionary encapsulates the mapping between normalized words and their integer ids.\n",
    "    dictionary = corpora.Dictionary(words_list)\n",
    "    # dictionary.token2id  #look at token id\n",
    "    \n",
    "    # doc2bow(): Convert `document` into the bag-of-words (BoW) format = list of `(token_id, token_count)` tuples.\n",
    "    corpus = [dictionary.doc2bow(words) for words in words_list]\n",
    " \n",
    "    # LDA主题模型。\n",
    "    # passes: Number of passes through the corpus during training.\n",
    "    lda_model = models.ldamodel.LdaModel(corpus=corpus, num_topics=num_topics, id2word=dictionary, passes=10)\n",
    " \n",
    "    return lda_model"
   ]
  },
  {
   "cell_type": "code",
   "execution_count": 472,
   "metadata": {},
   "outputs": [
    {
     "name": "stdout",
     "output_type": "stream",
     "text": [
      "(0, '0.037*\"克\" + 0.012*\"盐\" + 0.010*\"帅\" + 0.009*\"牛奶\" + 0.009*\"食材\" + 0.009*\"面粉\" + 0.009*\"鸡蛋\" + 0.007*\"水\" + 0.007*\"蛋糕\" + 0.007*\"黄油\" + 0.006*\"奶油\" + 0.005*\"白糖\" + 0.005*\"烤\" + 0.005*\"吐司\" + 0.004*\"淀粉\" + 0.004*\"适量\" + 0.004*\"糖\" + 0.004*\"粉\" + 0.004*\"唱\" + 0.004*\"低\"')\n",
      "=============================\n",
      "(1, '0.026*\"美食\" + 0.025*\"喜欢\" + 0.015*\"群\" + 0.014*\"博步\" + 0.013*\"吃\" + 0.012*\"粉丝\" + 0.009*\"日常\" + 0.008*\"韩梅梅\" + 0.008*\"爱\" + 0.007*\"猫\" + 0.006*\"欢迎\" + 0.006*\"素质\" + 0.005*\"城市\" + 0.005*\"素材\" + 0.005*\"一键\" + 0.004*\"中国\" + 0.004*\"钱包\" + 0.004*\"上车\" + 0.004*\"几毛\" + 0.004*\"邮\"')\n",
      "=============================\n",
      "(2, '0.046*\"吃\" + 0.010*\"买\" + 0.009*\"做\" + 0.009*\"卖\" + 0.008*\"小伙\" + 0.007*\"兄弟\" + 0.006*\"香\" + 0.006*\"鱼\" + 0.006*\"美食\" + 0.005*\"菜\" + 0.005*\"店\" + 0.005*\"餐厅\" + 0.005*\"鸡\" + 0.005*\"饭\" + 0.005*\"好吃\" + 0.005*\"肉\" + 0.004*\"经验\" + 0.004*\"蟹\" + 0.004*\"北京\" + 0.004*\"带\"')\n",
      "=============================\n",
      "(3, '0.013*\"朋友\" + 0.011*\"做\" + 0.009*\"喜欢\" + 0.008*\"更\" + 0.008*\"没有\" + 0.007*\"知道\" + 0.007*\"司徒\" + 0.007*\"希望\" + 0.007*\"老\" + 0.006*\"没\" + 0.006*\"东西\" + 0.006*\"拍\" + 0.005*\"爱\" + 0.005*\"太\" + 0.005*\"真的\" + 0.005*\"中国\" + 0.005*\"看看\" + 0.005*\"终于\" + 0.004*\"英国\" + 0.004*\"听\"')\n",
      "=============================\n",
      "(4, '0.029*\"做\" + 0.029*\"吃\" + 0.017*\"好吃\" + 0.011*\"简单\" + 0.010*\"做法\" + 0.008*\"味道\" + 0.007*\"真的\" + 0.007*\"喜欢\" + 0.007*\"锅\" + 0.006*\"鸭\" + 0.006*\"香\" + 0.005*\"炒\" + 0.005*\"太\" + 0.005*\"汤\" + 0.005*\"煮\" + 0.005*\"教\" + 0.005*\"酱\" + 0.005*\"牛肉\" + 0.004*\"起来\" + 0.004*\"肉\"')\n",
      "=============================\n",
      "\n",
      "\n",
      "(0, '0.025*\"做\" + 0.017*\"蛋糕\" + 0.011*\"吃\" + 0.011*\"美食\" + 0.009*\"中国\" + 0.007*\"芝士\" + 0.007*\"逛\" + 0.006*\"鸡翅\" + 0.006*\"小伙\" + 0.005*\"男孩\" + 0.005*\"做成\" + 0.005*\"鸡蛋\" + 0.005*\"太\" + 0.005*\"金黄\" + 0.005*\"期\" + 0.005*\"茶\" + 0.005*\"巧克力\" + 0.005*\"月饼\" + 0.004*\"虾片\" + 0.004*\"兄弟\"')\n",
      "=============================\n",
      "(1, '0.024*\"吃\" + 0.024*\"做\" + 0.019*\"好吃\" + 0.015*\"爸妈\" + 0.013*\"简单\" + 0.010*\"超\" + 0.010*\"做法\" + 0.009*\"自制\" + 0.009*\"香\" + 0.009*\"教\" + 0.008*\"烤\" + 0.008*\"味道\" + 0.007*\"肉\" + 0.006*\"炒\" + 0.006*\"鸡\" + 0.006*\"克\" + 0.005*\"治愈\" + 0.005*\"太\" + 0.005*\"汤\" + 0.005*\"饭\"')\n",
      "=============================\n",
      "(2, '0.060*\"吃\" + 0.011*\"小伙\" + 0.009*\"好吃\" + 0.009*\"卖\" + 0.009*\"味道\" + 0.008*\"太\" + 0.008*\"买\" + 0.008*\"做\" + 0.007*\"美食\" + 0.007*\"过瘾\" + 0.006*\"自制\" + 0.006*\"面\" + 0.005*\"老\" + 0.005*\"鱼\" + 0.005*\"东西\" + 0.005*\"锅\" + 0.005*\"试吃\" + 0.005*\"真\" + 0.005*\"兄弟\" + 0.004*\"中国\"')\n",
      "=============================\n",
      "(3, '0.045*\"英国\" + 0.043*\"司徒\" + 0.026*\"建国\" + 0.023*\"博步\" + 0.016*\"韩梅梅\" + 0.015*\"老外\" + 0.009*\"小哥\" + 0.009*\"带\" + 0.008*\"日常\" + 0.007*\"蟹\" + 0.007*\"学\" + 0.006*\"唱\" + 0.006*\"弹唱\" + 0.006*\"高\" + 0.004*\"做饭\" + 0.004*\"咖啡\" + 0.004*\"小池\" + 0.004*\"草莓\" + 0.004*\"黄\" + 0.004*\"没\"')\n",
      "=============================\n",
      "(4, '0.015*\"中国\" + 0.011*\"美食\" + 0.011*\"猫\" + 0.010*\"买\" + 0.009*\"记\" + 0.009*\"开箱\" + 0.008*\"品城\" + 0.008*\"吃\" + 0.008*\"试吃\" + 0.007*\"到底\" + 0.007*\"日本\" + 0.007*\"好吃\" + 0.006*\"小伙\" + 0.005*\"米其林\" + 0.005*\"味道\" + 0.005*\"花\" + 0.005*\"翻唱\" + 0.005*\"世界\" + 0.005*\"真的\" + 0.005*\"零食\"')\n",
      "=============================\n"
     ]
    }
   ],
   "source": [
    "target_topics = 5\n",
    "\n",
    "lda_model_desc = LDA_model(words_list_desc, target_topics)\n",
    "topics_desc = lda_model_desc.show_topics(num_topics = 5, num_words = 20)\n",
    "for topic in topics_desc:\n",
    "    print(topic)\n",
    "    print('=============================')\n",
    "    \n",
    "print('\\n')    \n",
    "    \n",
    "lda_model_title = LDA_model(words_list_title, target_topics)\n",
    "topics_title = lda_model_title.show_topics(num_topics = 5, num_words = 20)\n",
    "for topic in topics_title:\n",
    "    print(topic)\n",
    "    print('=============================')"
   ]
  },
  {
   "cell_type": "markdown",
   "metadata": {},
   "source": [
    "### Model 2: TFiDF"
   ]
  },
  {
   "cell_type": "markdown",
   "metadata": {},
   "source": [
    "#### 2.1 sklearn"
   ]
  },
  {
   "cell_type": "code",
   "execution_count": 226,
   "metadata": {},
   "outputs": [],
   "source": [
    "from sklearn.feature_extraction.text import CountVectorizer\n",
    "from sklearn.feature_extraction.text import TfidfTransformer"
   ]
  },
  {
   "cell_type": "code",
   "execution_count": 227,
   "metadata": {},
   "outputs": [],
   "source": [
    "# TFIDF Model\n",
    "def TFIDF_model(words_list, feature_words_count_sentence = 3, feature_words_count_all = 100):\n",
    "    sentences_list = [' '.join(s) for s in words_list]\n",
    "    #Convert a collection of text documents to a matrix of token counts, a[i][j] j-word i-doc\n",
    "    vectorizer = CountVectorizer()\n",
    "    counts_matrix = vectorizer.fit_transform(sentences_list)\n",
    "    #Transform a count matrix to a normalized tf or tf-idf representation\n",
    "    tf_idf_transformer = TfidfTransformer()\n",
    "    tf_idf = tf_idf_transformer.fit_transform(counts_matrix)\n",
    "\n",
    "    #Get key feature names\n",
    "    words = vectorizer.get_feature_names()\n",
    "    #Get Weights \n",
    "    weights = tf_idf.toarray()\n",
    "            \n",
    "    #get all feature words        \n",
    "    feature_words_all = np.array(words)[list(np.argsort(-weights.sum(axis = 0))[:feature_words_count_all])]\n",
    "    feature_weights_all = -np.sort(-weights.sum(axis = 0))[:feature_words_count_all]\n",
    "    print(feature_words_all)\n",
    "    print(feature_weights_all)     \n",
    "    \n",
    "    #print sentence feature words\n",
    "#     for weight in weights:\n",
    "#         # sorting\n",
    "#         loc = np.argsort(-weight)\n",
    "#         for i in range(feature_words_count_sentence):\n",
    "#             print ('-{}: {} {}'.format(str(i + 1), words[loc[i]], weight[loc[i]]))\n",
    "#         print('\\n')                             \n",
    "\n",
    "\n",
    "    return words, weights, feature_words_all, feature_weights_all\n",
    "\n",
    "    # tf_idf = tf_idf_transformer.transform(vectorizer.transform(x_test))\n",
    "    # x_test_weight = tf_idf.toarray()  "
   ]
  },
  {
   "cell_type": "code",
   "execution_count": 228,
   "metadata": {},
   "outputs": [
    {
     "name": "stdout",
     "output_type": "stream",
     "text": [
      "['喜欢' '美食' '好吃' '真的' '粉丝' '简单' '没有' '做法' '味道' '欢迎' '希望' '朋友' '过瘾' '食材'\n",
      " '鸡蛋' '日常' '宝宝' '牛奶' '兄弟' '分享' '公众' '更新' '一定' '鼓励' '知道' '小吃' '招募' '牛肉'\n",
      " '起来' '小伙伴' '面粉' '素质' '火锅' '最大' '小伙' '觉得' '教程' '感觉' '东西' '简介' '海鲜' '非常'\n",
      " '芝士' '料理' '日本' '动力' '可爱' '小时' '啤酒' '收看' '小哥' '快乐' '有点' '频道' '蛋糕' '吃饭'\n",
      " '日食' '看看' '开心' '一期' '终于' '软软' '配方' '特别' '自制' '发现' '口感' '野食' '吃货' '不会'\n",
      " '素材' '推荐' '黄油' '阿远' '一直' '牛排' '方法' '其实' '口味' '时间' '需要' '中国' '奶油' '教学'\n",
      " '下酒菜' '男孩' '完整' '米饭' '饭菜' '博主' '已经' '餐厅' '到底' '排骨' '全网' '块钱' '继续' '不用'\n",
      " '可能' '专业']\n",
      "[399.62151378 296.46963918 258.95234759 177.89316162 160.24650127\n",
      " 152.49607849 149.69064596 147.89685873 146.94297808 125.78312387\n",
      " 124.91778519 113.32153632 112.6299547  112.33349368 110.78709689\n",
      " 109.94420446 108.66360847  97.22462351  93.50411012  92.0914765\n",
      "  91.74769563  89.40347441  89.30794448  87.98661242  84.71904466\n",
      "  83.4684164   81.91401712  79.30904814  78.00976143  77.24813682\n",
      "  74.64282835  72.69124502  70.16426672  69.56841031  69.39967347\n",
      "  68.61499261  68.50627927  68.32998047  68.02359106  67.40082972\n",
      "  66.82160853  66.68103837  66.61633171  66.23818314  66.14590324\n",
      "  65.36667691  64.24247088  63.32748071  63.09949253  63.06564505\n",
      "  62.87326538  62.24094212  62.18181165  62.14372481  61.52663736\n",
      "  60.90365435  60.62669407  60.24227276  60.14137405  59.78598628\n",
      "  59.38982668  58.86411269  58.27018822  58.16850639  57.49288727\n",
      "  57.27993125  56.90808883  56.46673428  55.42850377  55.386921\n",
      "  55.10945473  54.97038085  54.7066686   53.81959568  53.77240515\n",
      "  53.60915838  53.58310588  53.05293209  52.84020543  52.72441837\n",
      "  52.62819431  52.41279744  52.36883305  51.4553001   51.43816696\n",
      "  51.31863189  50.78802766  50.6234876   50.50920254  50.412775\n",
      "  50.32014568  49.08389581  48.99014205  48.97076132  48.41389518\n",
      "  48.28300367  48.03516936  48.01783625  47.73812686  47.62060001]\n"
     ]
    }
   ],
   "source": [
    "words_desc, weights_desc, feature_words_all_desc, feature_weights_all_desc = TFIDF_model(words_list_desc)"
   ]
  },
  {
   "cell_type": "code",
   "execution_count": 229,
   "metadata": {},
   "outputs": [
    {
     "name": "stdout",
     "output_type": "stream",
     "text": [
      "['好吃' '味道' '美食' '简单' '做法' '小伙' '自制' '真的' '过瘾' '蛋糕' '牛肉' '试吃' '竟然' '火锅'\n",
      " '日本' '芝士' '鸡蛋' '兄弟' '牛排' '海鲜' '居然' '到底' '炸鸡' '做出' '早餐' '粉丝' '小时' '体验'\n",
      " '中国' '料理' '块钱' '厨房' '吃法' '下饭' '不用' '没有' '起来' '治愈' '烧烤' '外卖' '做成' '学会'\n",
      " '豆腐' '配方' '泡面' '小龙虾' '面包' '烤肉' '开箱' '汉堡' '日常' '老板' '米饭' '番茄' '排骨' '小吃'\n",
      " '分享' '知道' '完美' '米其林' '原来' '入味' '终于' '口感' '还原' '螺蛳' '餐厅' '感觉' '吃饭' '开胃'\n",
      " '韩式' '家常' '月饼' '口味' '喜欢' '搞定' '土豆' '游戏' '快乐' '奶茶' '朋友' '世界' '不会' '酥脆'\n",
      " '小哥' '秘制' '猪肉' '网红' '鲜香' '脆皮' '英国' '品城' '一定' '鸡腿' '鲜嫩' '零食' '发现' '浓郁'\n",
      " '牛奶' '龙虾']\n",
      "[358.83505153 196.03798613 184.35562602 180.29553628 174.12553183\n",
      " 152.4170132  150.9752604  141.75827336 140.12007566 130.5148377\n",
      " 127.08270552 123.3852407  121.65609455 109.52394143 107.02422909\n",
      " 104.48150908  95.6171384   90.74350153  90.11574203  88.88922212\n",
      "  84.3715909   83.39178496  83.14050128  82.32870832  80.76482348\n",
      "  80.60673638  79.92915411  79.91220588  79.1931585   78.24913427\n",
      "  76.26128409  74.8864882   72.9878726   72.88836633  71.23664629\n",
      "  69.30180526  68.57654161  68.41466463  67.90757177  67.17971987\n",
      "  66.39775856  66.20305324  65.63167601  65.03546993  64.60034736\n",
      "  63.47038638  63.43116402  62.93411368  62.41185306  62.08236806\n",
      "  61.28324113  60.88491194  60.76444007  60.56479082  59.83853964\n",
      "  59.01057742  58.92576913  58.39176899  58.33820009  57.767811\n",
      "  57.26766531  56.50590478  56.39461545  56.26122446  55.18247744\n",
      "  54.08688181  53.819301    53.55722834  52.5631376   52.42924202\n",
      "  52.08848706  51.97467749  51.75559219  51.00159774  50.81093119\n",
      "  50.52010672  50.41306775  50.11742223  50.06408388  49.53683742\n",
      "  49.49579194  48.99873528  48.89907563  48.87409828  48.75542622\n",
      "  48.72881877  48.53499993  48.38485381  48.2425089   48.2186678\n",
      "  48.18300373  48.13033798  48.09216982  48.00394807  47.86759296\n",
      "  47.76439157  47.75246739  47.51622366  47.42319915  46.82476343]\n"
     ]
    }
   ],
   "source": [
    "words_title, weights_title, feature_words_all_title, feature_weights_all_title = TFIDF_model(words_list_title)"
   ]
  },
  {
   "cell_type": "markdown",
   "metadata": {},
   "source": [
    "#### 2）jieba\n",
    "note: stopwords is in jieba itself: https://github.com/fxsjy/jieba/blob/master/jieba/analyse/tfidf.py"
   ]
  },
  {
   "cell_type": "code",
   "execution_count": 230,
   "metadata": {},
   "outputs": [
    {
     "name": "stdout",
     "output_type": "stream",
     "text": [
      "['视频', '美食', '大家', '好吃', '喜欢', '关注', '食材', '投币', '感谢', '味道', '做法', '真的', '芝士', '记得', '鸡蛋', '过瘾', '粉丝', '简单', '牛奶', '支持', '小吃', '小伙伴', '面粉', '留言', '谢谢', '欢迎', '收藏', '分享', '黄油', '希望', '日常', '吃货', '海鲜', '小勺', '火锅', '牛肉', '朋友', '就是', '口感', '奶油', '蛋糕', '没有', '牛排', '评论', '炸鸡', '料理', '排骨', '口味', '啤酒', '还有', '下酒菜', '配方', '餐厅', '时候', '公众', '更新', '淀粉', '非常', '日本', '点赞', '番茄', '烤箱', '一定', '教程', '自制', '白糖', '胡椒粉', '面包', '厨房', '酱汁', '一期', '料酒', '米饭', '适量', '小伙', '倒入', '日食', '开箱', '宝宝', '饭菜', '配料', '转发', '泡面', '土豆', '奶茶', '洋葱', '小龙虾', '披萨', '烧烤', '感觉', '拍摄', '出来', '博主', '男孩', '蛋黄', '早餐', '秘制', '觉得', '起来', '小时']\n"
     ]
    }
   ],
   "source": [
    "jieba_tfidf_desc = jieba.analyse.extract_tags('。'.join(data_text_cleaned.description), \n",
    "                                               topK = 100, \n",
    "                                               withWeight = False, \n",
    "                                               allowPOS= flags,\n",
    "                                               withFlag = False\n",
    "                                              )\n",
    "print(jieba_tfidf_desc)"
   ]
  },
  {
   "cell_type": "code",
   "execution_count": 231,
   "metadata": {},
   "outputs": [
    {
     "name": "stdout",
     "output_type": "stream",
     "text": [
      "['好吃', '美食', '味道', '试吃', '小伙', '自制', '过瘾', '做法', '芝士', '蛋糕', '简单', '牛肉', '火锅', '炸鸡', '牛排', '海鲜', '真的', '竟然', '下饭', '泡面', '外卖', '开箱', '粉丝', '鸡蛋', '吃法', '品城', '视频', '小龙虾', '早餐', '块钱', '料理', '治愈', '米其林', '配方', '入味', '烧烤', '番茄', '日本', '小哥', '秘制', '小吃', '排骨', '居然', '体验', '韩式', '脆皮', '烤肉', '做成', '口感', '鲜香', '吐司', '开胃', '厨房', '兄弟', '螺蛳', '做出', '豆腐', '酥脆', '披萨', '面包', '网红', '赶海', '米饭', '分享', '汉堡', '小时', '测评', '家常', '到底', '零食', '五花肉', '鲜嫩', '搞定', '完美', '食材', '就是', '不用', '甜品', '日常', '复刻', '奶茶', '拌面', '拉面', '爆浆', '鸡腿', '肥牛', '学会', '餐厅', '老板', '鸡翅', '月饼', '教程', '还原', '口味', '土豆', '翻车', '浓郁', '龙虾', '红烧', '日式']\n"
     ]
    }
   ],
   "source": [
    "jieba_tfidf_title = jieba.analyse.extract_tags('。'.join(data_text_cleaned.title), \n",
    "                                               topK = 100, \n",
    "                                               withWeight = False, \n",
    "                                               allowPOS= flags,\n",
    "                                               withFlag = False\n",
    "                                              )\n",
    "print(jieba_tfidf_title)"
   ]
  },
  {
   "cell_type": "markdown",
   "metadata": {},
   "source": [
    "### Model 3: TextRank\n",
    "note: stopwords is in jieba itself: https://github.com/fxsjy/jieba/blob/master/jieba/analyse/textrank.py\n",
    "\n",
    "However, we replace it here to compare"
   ]
  },
  {
   "cell_type": "code",
   "execution_count": null,
   "metadata": {},
   "outputs": [],
   "source": [
    "jieba.analyse.set_stop_words('all_stopword.csv')"
   ]
  },
  {
   "cell_type": "code",
   "execution_count": 271,
   "metadata": {},
   "outputs": [
    {
     "name": "stdout",
     "output_type": "stream",
     "text": [
      "['美食', '喜欢', '好吃', '没有', '真的', '做法', '味道', '简单', '食材', '希望', '非常', '小吃', '鸡蛋', '朋友', '一定', '欢迎', '起来', '分享', '芝士', '过瘾', '特别', '牛奶', '牛肉', '蛋糕', '日本', '火锅', '口感', '餐厅', '日常', '知道', '时间', '啤酒', '觉得', '比较', '面粉', '感觉', '地址', '发现', '小伙伴', '不会', '已经', '海鲜', '需要', '中国', '口味', '兄弟', '终于', '其实', '传统', '有点', '不用', '推荐', '一直', '配方', '自制', '吃饭', '方法', '教程', '料理', '搭配', '粉丝', '小时', '看看', '东西', '拍摄', '不能', '牛排', '倒入', '老板', '可能', '一期', '适量', '面包', '排骨', '放入', '加入', '小伙', '早餐', '黄油', '体验', '土豆', '奶油', '公众', '游戏', '更新', '淀粉', '来到', '美国', '吃货', '材料', '准备', '到底', '赶海', '适合', '打工', '男孩', '广州', '炸鸡', '厨房', '家常']\n"
     ]
    }
   ],
   "source": [
    "jieba_textrank_desc = jieba.analyse.textrank('。'.join(data_text_cleaned.description), \n",
    "                                               topK = 100, \n",
    "                                               withWeight = False, \n",
    "                                               allowPOS= flags,\n",
    "                                               withFlag = False\n",
    "                                              )\n",
    "print(jieba_textrank_desc)"
   ]
  },
  {
   "cell_type": "code",
   "execution_count": 272,
   "metadata": {},
   "outputs": [
    {
     "name": "stdout",
     "output_type": "stream",
     "text": [
      "['好吃', '美食', '做法', '味道', '简单', '自制', '小伙', '蛋糕', '试吃', '真的', '日本', '竟然', '牛肉', '过瘾', '火锅', '芝士', '中国', '海鲜', '兄弟', '做出', '牛排', '鸡蛋', '料理', '居然', '粉丝', '不用', '早餐', '做成', '没有', '分享', '开箱', '小时', '炸鸡', '到底', '下饭', '完美', '小吃', '体验', '吃法', '配方', '厨房', '英国', '测评', '烧烤', '餐厅', '面包', '老板', '米其林', '小哥', '终于', '口感', '还原', '豆腐', '发现', '起来', '家常', '番茄', '秘制', '块钱', '赶海', '日常', '外卖', '游戏', '浓郁', '学会', '泡面', '治愈', '烤肉', '世界', '零食', '入味', '搭配', '网红', '原来', '鲜嫩', '酥脆', '汉堡', '开胃', '朋友', '吃饭', '脆皮', '月饼', '排骨', '小龙虾', '感觉', '男孩', '传统', '米饭', '陕西', '孩子', '韩式', '土豆', '东北', '喜欢', '鲜香', '一定', '神仙', '口味', '甜品', '复刻']\n"
     ]
    }
   ],
   "source": [
    "jieba_textrank_title = jieba.analyse.textrank('。'.join(data_text_cleaned.title), \n",
    "                                               topK = 100, \n",
    "                                               withWeight = False, \n",
    "                                               allowPOS= flags,\n",
    "                                               withFlag = False\n",
    "                                              )\n",
    "print(jieba_textrank_title)"
   ]
  },
  {
   "cell_type": "markdown",
   "metadata": {},
   "source": [
    "## Part 3: Ensemble"
   ]
  },
  {
   "cell_type": "code",
   "execution_count": 297,
   "metadata": {},
   "outputs": [
    {
     "name": "stdout",
     "output_type": "stream",
     "text": [
      "0.57\n",
      "0.72\n",
      "0.6\n",
      "0.81\n",
      "0.89\n",
      "0.79\n",
      "{'男孩', '芝士', '一期', '口感', '小吃', '没有', '一定', '排骨', '觉得', '起来', '牛肉', '味道', '鸡蛋', '过瘾', '小伙', '火锅', '欢迎', '吃货', '做法', '小伙伴', '日本', '更新', '希望', '教程', '日常', '口味', '料理', '奶油', '好吃', '简单', '朋友', '分享', '黄油', '啤酒', '餐厅', '公众', '非常', '食材', '牛奶', '美食', '喜欢', '自制', '蛋糕', '小时', '面粉', '牛排', '感觉', '粉丝', '海鲜', '配方', '真的'}\n",
      "=====================\n",
      "{'早餐', '做成', '芝士', '外卖', '口感', '居然', '小吃', '厨房', '排骨', '治愈', '兄弟', '试吃', '浓郁', '牛肉', '味道', '炸鸡', '鸡蛋', '米其林', '小伙', '火锅', '鲜嫩', '过瘾', '烤肉', '小龙虾', '豆腐', '体验', '酥脆', '米饭', '做法', '竟然', '番茄', '秘制', '日本', '块钱', '开胃', '网红', '口味', '日常', '料理', '土豆', '好吃', '鲜香', '小哥', '烧烤', '简单', '分享', '泡面', '做出', '餐厅', '吃法', '开箱', '老板', '美食', '自制', '脆皮', '蛋糕', '面包', '小时', '不用', '入味', '牛排', '韩式', '完美', '下饭', '还原', '家常', '月饼', '粉丝', '到底', '海鲜', '汉堡', '配方', '学会', '真的', '零食'}\n"
     ]
    }
   ],
   "source": [
    "def keywords_list_similiarity(a, b):\n",
    "    len_both = len(set(a)) + len(set(b))\n",
    "    len_inner =  len(set(a)&set(b))   \n",
    "    return len_inner / (len_both / 2)\n",
    "\n",
    "\n",
    "print(keywords_list_similiarity(feature_words_all_desc, jieba_tfidf_desc))\n",
    "print(keywords_list_similiarity(feature_words_all_desc, jieba_textrank_desc))\n",
    "print(keywords_list_similiarity(jieba_tfidf_desc, jieba_textrank_desc))\n",
    "\n",
    "print(keywords_list_similiarity(feature_words_all_title, jieba_tfidf_title))\n",
    "print(keywords_list_similiarity(feature_words_all_title, jieba_textrank_title))\n",
    "print(keywords_list_similiarity(jieba_tfidf_title, jieba_textrank_title))\n",
    "\n",
    "keywords_same_desc = set(feature_words_all_desc)&set(jieba_tfidf_desc)&set(jieba_textrank_desc)\n",
    "keywords_same_title = set(feature_words_all_title)&set(jieba_tfidf_title)&set(jieba_textrank_title)\n",
    "\n",
    "print(keywords_same_desc)\n",
    "print('=====================')\n",
    "print(keywords_same_title)"
   ]
  },
  {
   "cell_type": "code",
   "execution_count": 311,
   "metadata": {},
   "outputs": [
    {
     "data": {
      "text/plain": [
       "{'做法',\n",
       " '分享',\n",
       " '口味',\n",
       " '口感',\n",
       " '味道',\n",
       " '好吃',\n",
       " '小伙',\n",
       " '小吃',\n",
       " '小时',\n",
       " '排骨',\n",
       " '料理',\n",
       " '日常',\n",
       " '日本',\n",
       " '海鲜',\n",
       " '火锅',\n",
       " '牛排',\n",
       " '牛肉',\n",
       " '真的',\n",
       " '简单',\n",
       " '粉丝',\n",
       " '美食',\n",
       " '自制',\n",
       " '芝士',\n",
       " '蛋糕',\n",
       " '过瘾',\n",
       " '配方',\n",
       " '餐厅',\n",
       " '鸡蛋'}"
      ]
     },
     "execution_count": 311,
     "metadata": {},
     "output_type": "execute_result"
    }
   ],
   "source": [
    "keywords_same_desc & keywords_same_title"
   ]
  },
  {
   "cell_type": "markdown",
   "metadata": {},
   "source": [
    "### Model 4: Word2Vec"
   ]
  },
  {
   "cell_type": "markdown",
   "metadata": {},
   "source": [
    "###### 1) train our word2vec model"
   ]
  },
  {
   "cell_type": "code",
   "execution_count": 274,
   "metadata": {},
   "outputs": [],
   "source": [
    "from gensim.models import word2vec"
   ]
  },
  {
   "cell_type": "code",
   "execution_count": 275,
   "metadata": {},
   "outputs": [],
   "source": [
    "model = word2vec.Word2Vec(words_list_desc + words_list_title, \n",
    "                          size=300, #Dimensionality of the word vectors.\n",
    "                          window=10, #Maximum distance between the current and predicted word within a sentence.\n",
    "                          min_count=5, #Ignores all words with total frequency lower than this.\n",
    "                          iter = 40)"
   ]
  },
  {
   "cell_type": "markdown",
   "metadata": {},
   "source": [
    "###### 2) look at some words"
   ]
  },
  {
   "cell_type": "code",
   "execution_count": 326,
   "metadata": {},
   "outputs": [
    {
     "name": "stdout",
     "output_type": "stream",
     "text": [
      "口感===================\n",
      "[('细腻', 0.5255318880081177),\n",
      " ('爽滑', 0.5150353908538818),\n",
      " ('外皮', 0.48334598541259766),\n",
      " ('醇厚', 0.4767478406429291),\n",
      " ('柔软', 0.47061705589294434),\n",
      " ('弹性', 0.45972394943237305),\n",
      " ('香甜', 0.44979143142700195),\n",
      " ('保留', 0.43976885080337524),\n",
      " ('软嫩', 0.4396107792854309),\n",
      " ('增加', 0.43353942036628723)]\n",
      "\n",
      "火锅===================\n",
      "[('涮', 0.5543458461761475),\n",
      " ('底料', 0.5089024901390076),\n",
      " ('汤底', 0.46871840953826904),\n",
      " ('羊蝎子', 0.45249539613723755),\n",
      " ('毛肚', 0.4430299699306488),\n",
      " ('鸳鸯', 0.43998393416404724),\n",
      " ('冬阴功', 0.4235827326774597),\n",
      " ('宽粉', 0.4143980145454407),\n",
      " ('锅底', 0.39728647470474243),\n",
      " ('轮到', 0.39531585574150085)]\n",
      "\n",
      "真的===================\n",
      "[('试一试', 0.416294664144516),\n",
      " ('一定', 0.35228896141052246),\n",
      " ('真是', 0.3316381573677063),\n",
      " ('试了试', 0.3052501678466797),\n",
      " ('飞吻', 0.3022924065589905),\n",
      " ('难', 0.2867928147315979),\n",
      " ('实在', 0.2844112515449524),\n",
      " ('蛮', 0.27804428339004517),\n",
      " ('找', 0.27378958463668823),\n",
      " ('试', 0.2725006341934204)]\n",
      "\n",
      "配方===================\n",
      "[('酱料', 0.4695156216621399),\n",
      " ('秘诀', 0.4167283773422241),\n",
      " ('制作方法', 0.4063264727592468),\n",
      " ('东哥', 0.4019072651863098),\n",
      " ('炒制', 0.40097689628601074),\n",
      " ('方子', 0.4001098573207855),\n",
      " ('品诺', 0.3928033113479614),\n",
      " ('调', 0.3884485363960266),\n",
      " ('要点', 0.38563352823257446),\n",
      " ('用料', 0.3650451898574829)]\n",
      "\n",
      "米其林===================\n",
      "[('星级', 0.6397243142127991),\n",
      " ('星', 0.6225240230560303),\n",
      " ('食酒', 0.6087008714675903),\n",
      " ('黑珍珠', 0.5960465669631958),\n",
      " ('主厨', 0.5922869443893433),\n",
      " ('餐厅', 0.5400862097740173),\n",
      " ('怀石', 0.5129306316375732),\n",
      " ('京都', 0.49669891595840454),\n",
      " ('中餐馆', 0.4961738586425781),\n",
      " ('级别', 0.4886356592178345)]\n"
     ]
    }
   ],
   "source": [
    "from pprint import pprint\n",
    "print('口感===================')\n",
    "pprint(model.wv.most_similar(['口感'], topn= 10))\n",
    "print('\\n火锅===================')\n",
    "pprint(model.wv.most_similar(['火锅'], topn= 10))\n",
    "print('\\n真的===================')\n",
    "pprint(model.wv.most_similar(['真的'], topn= 10))\n",
    "print('\\n配方===================')\n",
    "pprint(model.wv.most_similar(['配方'], topn= 10))\n",
    "print('\\n米其林===================')\n",
    "pprint(model.wv.most_similar(['米其林'], topn= 10))"
   ]
  },
  {
   "cell_type": "markdown",
   "metadata": {},
   "source": [
    "###### 3) find all similiar words to keywords"
   ]
  },
  {
   "cell_type": "code",
   "execution_count": 302,
   "metadata": {},
   "outputs": [],
   "source": [
    "def get_similiar_words(keywords_list, model = model, topn = 10):\n",
    "    words_list = []\n",
    "    word_vectors = []\n",
    "    words_similar_list = []\n",
    "    word_similar_vectors = []\n",
    "    for word in keywords_list:\n",
    "        try:\n",
    "            result = model.wv.most_similar(positive=[word],topn=topn)\n",
    "            words_similar_list.append([w for w, v in result])\n",
    "            vector = []\n",
    "            for w, _ in result:\n",
    "                try:\n",
    "                    vector.append(model.wv[w])\n",
    "                except:\n",
    "                    print(\"No word: {}\".format(w))\n",
    "            word_similar_vectors.append(vector)\n",
    "            w2v = model.wv[word]\n",
    "            words_list.append(word)\n",
    "            word_vectors.append(w2v)\n",
    "        except:\n",
    "            print(\"No word: {}\".format(word))\n",
    "    return words_list, word_vectors, words_similar_list, word_similar_vectors"
   ]
  },
  {
   "cell_type": "code",
   "execution_count": 303,
   "metadata": {},
   "outputs": [],
   "source": [
    "kw_list_desc, kw_vectors_desc, kw_similar_list_desc, kw_similar_vectors_desc = get_similiar_words(keywords_same_desc)\n",
    "kw_list_title, kw_vectors_title, kw_similar_list_title, kw_similar_vectors_title = get_similiar_words(keywords_same_title)"
   ]
  },
  {
   "cell_type": "code",
   "execution_count": 304,
   "metadata": {},
   "outputs": [],
   "source": [
    "token_idx_keywords_desc = dict(zip(kw_list_desc, range(len(kw_list_desc))))\n",
    "token_idx_keywords_title = dict(zip(kw_list_title, range(len(kw_list_title))))"
   ]
  },
  {
   "cell_type": "markdown",
   "metadata": {},
   "source": [
    "###### 4) plot them"
   ]
  },
  {
   "cell_type": "code",
   "execution_count": 308,
   "metadata": {},
   "outputs": [],
   "source": [
    "import matplotlib.pyplot as plt\n",
    "from sklearn.manifold import TSNE\n",
    "from mpl_toolkits.mplot3d import Axes3D"
   ]
  },
  {
   "cell_type": "code",
   "execution_count": 309,
   "metadata": {},
   "outputs": [],
   "source": [
    "plt.rcParams['font.sans-serif']=['SimHei'] # show chinese tags\n",
    "plt.rcParams['axes.unicode_minus']=False # show negative\n",
    "# %matplotlib inline\n",
    "#%config InlineBackend.figure_format='svg'\n",
    "\n",
    "def plot_tsne_2D(word_vectors, words_list):\n",
    "    tsne = TSNE(n_components=2, random_state=0, n_iter=10000, perplexity=3)\n",
    "    np.set_printoptions(suppress=True)\n",
    "    T = tsne.fit_transform(word_vectors)\n",
    "    labels = words_list\n",
    "\n",
    "    plt.figure(figsize=(8, 6))\n",
    "    plt.scatter(T[:,0], T[:,1], c='steelblue', edgecolors='k')\n",
    "    for label, x, y in zip(labels, T[:,0], T[:,1]):\n",
    "        plt.annotate(label, xy=(x+1, y+1),xytext=(0,0), textcoords='offset points')"
   ]
  },
  {
   "cell_type": "code",
   "execution_count": 310,
   "metadata": {},
   "outputs": [],
   "source": [
    "def plot_tsne_3D(word_vectors, words_list):\n",
    "    tsne = TSNE(n_components=3, random_state=0, n_iter=10000, perplexity=2)\n",
    "    np.set_printoptions(suppress=True)\n",
    "    T = tsne.fit_transform(word_vectors)\n",
    "    labels = words_list\n",
    "\n",
    "    plt.figure(figsize=(10, 6))\n",
    "    ax = plt.subplot(111,projection='3d')\n",
    "\n",
    "    for i in range(len(T)): # plot each point + it's index as text above\n",
    "        x = T[i,0]\n",
    "        y = T[i,1]\n",
    "        z = T[i,2]\n",
    "        label = labels[i]\n",
    "        ax.scatter(x, y, z, color='b');\n",
    "        ax.text(x, y, z, '%s' % (label), size=9, zorder=1, color='k');\n",
    "\n",
    "    ax.set_title('word2vec t-SNE 3D');\n",
    "    ax.set_xlabel('x');\n",
    "    ax.set_ylabel('y');\n",
    "    ax.set_zlabel('z');"
   ]
  },
  {
   "cell_type": "code",
   "execution_count": 328,
   "metadata": {},
   "outputs": [],
   "source": [
    "idx1_title = token_idx_keywords_title['口感']\n",
    "idx2_title = token_idx_keywords_title['火锅']\n",
    "idx3_title = token_idx_keywords_title['真的']\n",
    "idx4_title = token_idx_keywords_title['配方']\n",
    "idx5_title = token_idx_keywords_title['米其林']"
   ]
  },
  {
   "cell_type": "code",
   "execution_count": 336,
   "metadata": {},
   "outputs": [
    {
     "data": {
      "image/png": "[encoded data removed]",
      "text/plain": [
       "<Figure size 576x432 with 1 Axes>"
      ]
     },
     "metadata": {
      "needs_background": "light"
     },
     "output_type": "display_data"
    }
   ],
   "source": [
    "plot_tsne_2D(kw_similar_vectors_title[idx1_title] +  \n",
    "             kw_similar_vectors_title[idx2_title] + \n",
    "             kw_similar_vectors_title[idx3_title] +  \n",
    "             kw_similar_vectors_title[idx4_title] +  \n",
    "             kw_similar_vectors_title[idx5_title],             \n",
    "             kw_similar_list_title[idx1_title] +  \n",
    "             kw_similar_list_title[idx2_title] + \n",
    "             kw_similar_list_title[idx3_title] +  \n",
    "             kw_similar_list_title[idx4_title] +  \n",
    "             kw_similar_list_title[idx5_title])"
   ]
  },
  {
   "cell_type": "code",
   "execution_count": 341,
   "metadata": {},
   "outputs": [
    {
     "data": {
      "image/png": "[encoded data removed]",
      "text/plain": [
       "<Figure size 720x432 with 1 Axes>"
      ]
     },
     "metadata": {
      "needs_background": "light"
     },
     "output_type": "display_data"
    }
   ],
   "source": [
    "plot_tsne_3D(kw_similar_vectors_title[idx2_title] +  \n",
    "             kw_similar_vectors_title[idx4_title],             \n",
    "             kw_similar_list_title[idx2_title] +  \n",
    "             kw_similar_list_title[idx4_title])"
   ]
  },
  {
   "cell_type": "markdown",
   "metadata": {},
   "source": [
    "## Part 4 Transfer back to get features"
   ]
  },
  {
   "cell_type": "markdown",
   "metadata": {},
   "source": [
    "###### Method 1: use keywords weights"
   ]
  },
  {
   "cell_type": "code",
   "execution_count": 388,
   "metadata": {},
   "outputs": [
    {
     "name": "stdout",
     "output_type": "stream",
     "text": [
      "{'男孩', '芝士', '一期', '口感', '小吃', '没有', '一定', '排骨', '觉得', '起来', '牛肉', '味道', '鸡蛋', '过瘾', '小伙', '火锅', '欢迎', '吃货', '做法', '小伙伴', '日本', '更新', '希望', '教程', '日常', '口味', '料理', '奶油', '好吃', '简单', '朋友', '分享', '黄油', '啤酒', '餐厅', '公众', '非常', '食材', '牛奶', '美食', '喜欢', '自制', '蛋糕', '小时', '面粉', '牛排', '感觉', '粉丝', '海鲜', '配方', '真的'}\n",
      "\n",
      "\n",
      "{'早餐', '做成', '芝士', '外卖', '口感', '居然', '小吃', '厨房', '排骨', '治愈', '兄弟', '试吃', '浓郁', '牛肉', '味道', '炸鸡', '鸡蛋', '米其林', '小伙', '火锅', '鲜嫩', '过瘾', '烤肉', '小龙虾', '豆腐', '体验', '酥脆', '米饭', '做法', '竟然', '番茄', '秘制', '日本', '块钱', '开胃', '网红', '口味', '日常', '料理', '土豆', '好吃', '鲜香', '小哥', '烧烤', '简单', '分享', '泡面', '做出', '餐厅', '吃法', '开箱', '老板', '美食', '自制', '脆皮', '蛋糕', '面包', '小时', '不用', '入味', '牛排', '韩式', '完美', '下饭', '还原', '家常', '月饼', '粉丝', '到底', '海鲜', '汉堡', '配方', '学会', '真的', '零食'}\n"
     ]
    }
   ],
   "source": [
    "print(keywords_same_desc)\n",
    "print('\\n')\n",
    "print(keywords_same_title)"
   ]
  },
  {
   "cell_type": "code",
   "execution_count": 447,
   "metadata": {},
   "outputs": [
    {
     "data": {
      "text/plain": [
       "(22166, 51)"
      ]
     },
     "execution_count": 447,
     "metadata": {},
     "output_type": "execute_result"
    }
   ],
   "source": [
    "index_desc = [word in keywords_same_desc for word in words_desc]\n",
    "same_weights_desc = weights_desc[:,index_desc]\n",
    "same_weights_desc.shape"
   ]
  },
  {
   "cell_type": "code",
   "execution_count": 448,
   "metadata": {},
   "outputs": [
    {
     "data": {
      "text/plain": [
       "(22166, 75)"
      ]
     },
     "execution_count": 448,
     "metadata": {},
     "output_type": "execute_result"
    }
   ],
   "source": [
    "index_title = [word in keywords_same_title for word in words_title]\n",
    "same_weights_title = weights_title[:,index_title]\n",
    "same_weights_title.shape"
   ]
  },
  {
   "cell_type": "markdown",
   "metadata": {},
   "source": [
    "###### Method 2: use similiar words"
   ]
  },
  {
   "cell_type": "code",
   "execution_count": 458,
   "metadata": {},
   "outputs": [],
   "source": [
    "def transfer_similiar_weights(words, weights_all, kw_similar_list, keywords_same):\n",
    "    similiar_weights = []\n",
    "    keywords_same_list = list(keywords_same)\n",
    "    for i in range(len(keywords_same_list)):\n",
    "        index_similiar = [(word in kw_similar_list[i]) | (word in  keywords_same_list[i]) for word in words]\n",
    "        weights = weights_all[:,index_similiar].sum(axis = 1)\n",
    "        similiar_weights.append(weights)\n",
    "    return np.array(similiar_weights).T"
   ]
  },
  {
   "cell_type": "code",
   "execution_count": 459,
   "metadata": {},
   "outputs": [],
   "source": [
    "similiar_weights_desc = transfer_similiar_weights(words_desc, weights_desc, kw_similar_list_desc, keywords_same_desc)"
   ]
  },
  {
   "cell_type": "code",
   "execution_count": 460,
   "metadata": {},
   "outputs": [],
   "source": [
    "similiar_weights_title = transfer_similiar_weights(words_title, weights_title, kw_similar_list_title, keywords_same_title)"
   ]
  },
  {
   "cell_type": "markdown",
   "metadata": {},
   "source": [
    "###### Compare those two methods' outcomes\n",
    "!!!!! Very Sparse !!!!!"
   ]
  },
  {
   "cell_type": "code",
   "execution_count": 461,
   "metadata": {},
   "outputs": [
    {
     "data": {
      "text/html": [
       "<div>\n",
       "<style scoped>\n",
       "    .dataframe tbody tr th:only-of-type {\n",
       "        vertical-align: middle;\n",
       "    }\n",
       "\n",
       "    .dataframe tbody tr th {\n",
       "        vertical-align: top;\n",
       "    }\n",
       "\n",
       "    .dataframe thead th {\n",
       "        text-align: right;\n",
       "    }\n",
       "</style>\n",
       "<table border=\"1\" class=\"dataframe\">\n",
       "  <thead>\n",
       "    <tr style=\"text-align: right;\">\n",
       "      <th></th>\n",
       "      <th>男孩</th>\n",
       "      <th>芝士</th>\n",
       "      <th>一期</th>\n",
       "      <th>口感</th>\n",
       "      <th>小吃</th>\n",
       "      <th>没有</th>\n",
       "      <th>一定</th>\n",
       "      <th>排骨</th>\n",
       "      <th>觉得</th>\n",
       "      <th>起来</th>\n",
       "      <th>...</th>\n",
       "      <th>自制</th>\n",
       "      <th>蛋糕</th>\n",
       "      <th>小时</th>\n",
       "      <th>面粉</th>\n",
       "      <th>牛排</th>\n",
       "      <th>感觉</th>\n",
       "      <th>粉丝</th>\n",
       "      <th>海鲜</th>\n",
       "      <th>配方</th>\n",
       "      <th>真的</th>\n",
       "    </tr>\n",
       "  </thead>\n",
       "  <tbody>\n",
       "    <tr>\n",
       "      <th>0.950</th>\n",
       "      <td>0.000000</td>\n",
       "      <td>0.000000</td>\n",
       "      <td>0.000000</td>\n",
       "      <td>0.000000</td>\n",
       "      <td>0.000000</td>\n",
       "      <td>0.000000</td>\n",
       "      <td>0.000000</td>\n",
       "      <td>0.000000</td>\n",
       "      <td>0.000000</td>\n",
       "      <td>0.000000</td>\n",
       "      <td>...</td>\n",
       "      <td>0.000000</td>\n",
       "      <td>0.000000</td>\n",
       "      <td>0.000000</td>\n",
       "      <td>0.000000</td>\n",
       "      <td>0.000000</td>\n",
       "      <td>0.000000</td>\n",
       "      <td>0.000000</td>\n",
       "      <td>0.00000</td>\n",
       "      <td>0.000000</td>\n",
       "      <td>0.000000</td>\n",
       "    </tr>\n",
       "    <tr>\n",
       "      <th>0.970</th>\n",
       "      <td>0.000000</td>\n",
       "      <td>0.000000</td>\n",
       "      <td>0.094647</td>\n",
       "      <td>0.000000</td>\n",
       "      <td>0.000000</td>\n",
       "      <td>0.000000</td>\n",
       "      <td>0.000000</td>\n",
       "      <td>0.000000</td>\n",
       "      <td>0.094615</td>\n",
       "      <td>0.000000</td>\n",
       "      <td>...</td>\n",
       "      <td>0.000000</td>\n",
       "      <td>0.000000</td>\n",
       "      <td>0.000000</td>\n",
       "      <td>0.000000</td>\n",
       "      <td>0.000000</td>\n",
       "      <td>0.000000</td>\n",
       "      <td>0.070836</td>\n",
       "      <td>0.00000</td>\n",
       "      <td>0.000000</td>\n",
       "      <td>0.000000</td>\n",
       "    </tr>\n",
       "    <tr>\n",
       "      <th>0.990</th>\n",
       "      <td>0.167110</td>\n",
       "      <td>0.109533</td>\n",
       "      <td>0.226273</td>\n",
       "      <td>0.244300</td>\n",
       "      <td>0.182780</td>\n",
       "      <td>0.108868</td>\n",
       "      <td>0.116193</td>\n",
       "      <td>0.163598</td>\n",
       "      <td>0.226962</td>\n",
       "      <td>0.177624</td>\n",
       "      <td>...</td>\n",
       "      <td>0.131106</td>\n",
       "      <td>0.150702</td>\n",
       "      <td>0.219226</td>\n",
       "      <td>0.103367</td>\n",
       "      <td>0.130204</td>\n",
       "      <td>0.155550</td>\n",
       "      <td>0.177534</td>\n",
       "      <td>0.00000</td>\n",
       "      <td>0.194313</td>\n",
       "      <td>0.101528</td>\n",
       "    </tr>\n",
       "    <tr>\n",
       "      <th>0.999</th>\n",
       "      <td>0.399544</td>\n",
       "      <td>0.419165</td>\n",
       "      <td>0.343582</td>\n",
       "      <td>0.431348</td>\n",
       "      <td>0.383672</td>\n",
       "      <td>0.311432</td>\n",
       "      <td>0.323375</td>\n",
       "      <td>0.255260</td>\n",
       "      <td>0.397777</td>\n",
       "      <td>0.302795</td>\n",
       "      <td>...</td>\n",
       "      <td>0.393365</td>\n",
       "      <td>0.336453</td>\n",
       "      <td>0.348795</td>\n",
       "      <td>0.344762</td>\n",
       "      <td>0.321838</td>\n",
       "      <td>0.382769</td>\n",
       "      <td>0.344051</td>\n",
       "      <td>0.40259</td>\n",
       "      <td>0.445589</td>\n",
       "      <td>0.377776</td>\n",
       "    </tr>\n",
       "  </tbody>\n",
       "</table>\n",
       "<p>4 rows × 51 columns</p>\n",
       "</div>"
      ],
      "text/plain": [
       "             男孩        芝士        一期        口感        小吃        没有        一定  \\\n",
       "0.950  0.000000  0.000000  0.000000  0.000000  0.000000  0.000000  0.000000   \n",
       "0.970  0.000000  0.000000  0.094647  0.000000  0.000000  0.000000  0.000000   \n",
       "0.990  0.167110  0.109533  0.226273  0.244300  0.182780  0.108868  0.116193   \n",
       "0.999  0.399544  0.419165  0.343582  0.431348  0.383672  0.311432  0.323375   \n",
       "\n",
       "             排骨        觉得        起来  ...        自制        蛋糕        小时  \\\n",
       "0.950  0.000000  0.000000  0.000000  ...  0.000000  0.000000  0.000000   \n",
       "0.970  0.000000  0.094615  0.000000  ...  0.000000  0.000000  0.000000   \n",
       "0.990  0.163598  0.226962  0.177624  ...  0.131106  0.150702  0.219226   \n",
       "0.999  0.255260  0.397777  0.302795  ...  0.393365  0.336453  0.348795   \n",
       "\n",
       "             面粉        牛排        感觉        粉丝       海鲜        配方        真的  \n",
       "0.950  0.000000  0.000000  0.000000  0.000000  0.00000  0.000000  0.000000  \n",
       "0.970  0.000000  0.000000  0.000000  0.070836  0.00000  0.000000  0.000000  \n",
       "0.990  0.103367  0.130204  0.155550  0.177534  0.00000  0.194313  0.101528  \n",
       "0.999  0.344762  0.321838  0.382769  0.344051  0.40259  0.445589  0.377776  \n",
       "\n",
       "[4 rows x 51 columns]"
      ]
     },
     "execution_count": 461,
     "metadata": {},
     "output_type": "execute_result"
    }
   ],
   "source": [
    "pd.DataFrame(same_weights_desc, columns = keywords_same_desc).quantile([0.95,0.97,0.99,0.999])"
   ]
  },
  {
   "cell_type": "code",
   "execution_count": 462,
   "metadata": {},
   "outputs": [
    {
     "data": {
      "text/html": [
       "<div>\n",
       "<style scoped>\n",
       "    .dataframe tbody tr th:only-of-type {\n",
       "        vertical-align: middle;\n",
       "    }\n",
       "\n",
       "    .dataframe tbody tr th {\n",
       "        vertical-align: top;\n",
       "    }\n",
       "\n",
       "    .dataframe thead th {\n",
       "        text-align: right;\n",
       "    }\n",
       "</style>\n",
       "<table border=\"1\" class=\"dataframe\">\n",
       "  <thead>\n",
       "    <tr style=\"text-align: right;\">\n",
       "      <th></th>\n",
       "      <th>男孩</th>\n",
       "      <th>芝士</th>\n",
       "      <th>一期</th>\n",
       "      <th>口感</th>\n",
       "      <th>小吃</th>\n",
       "      <th>没有</th>\n",
       "      <th>一定</th>\n",
       "      <th>排骨</th>\n",
       "      <th>觉得</th>\n",
       "      <th>起来</th>\n",
       "      <th>...</th>\n",
       "      <th>自制</th>\n",
       "      <th>蛋糕</th>\n",
       "      <th>小时</th>\n",
       "      <th>面粉</th>\n",
       "      <th>牛排</th>\n",
       "      <th>感觉</th>\n",
       "      <th>粉丝</th>\n",
       "      <th>海鲜</th>\n",
       "      <th>配方</th>\n",
       "      <th>真的</th>\n",
       "    </tr>\n",
       "  </thead>\n",
       "  <tbody>\n",
       "    <tr>\n",
       "      <th>0.950</th>\n",
       "      <td>0.000000</td>\n",
       "      <td>0.000000</td>\n",
       "      <td>0.000000</td>\n",
       "      <td>0.000000</td>\n",
       "      <td>0.000000</td>\n",
       "      <td>0.112314</td>\n",
       "      <td>0.163972</td>\n",
       "      <td>0.000000</td>\n",
       "      <td>0.122772</td>\n",
       "      <td>0.000000</td>\n",
       "      <td>...</td>\n",
       "      <td>0.000000</td>\n",
       "      <td>0.000000</td>\n",
       "      <td>0.000000</td>\n",
       "      <td>0.000000</td>\n",
       "      <td>0.000000</td>\n",
       "      <td>0.145762</td>\n",
       "      <td>0.000000</td>\n",
       "      <td>0.000000</td>\n",
       "      <td>0.000000</td>\n",
       "      <td>0.133599</td>\n",
       "    </tr>\n",
       "    <tr>\n",
       "      <th>0.970</th>\n",
       "      <td>0.000000</td>\n",
       "      <td>0.000000</td>\n",
       "      <td>0.155331</td>\n",
       "      <td>0.000000</td>\n",
       "      <td>0.077942</td>\n",
       "      <td>0.182194</td>\n",
       "      <td>0.232110</td>\n",
       "      <td>0.000000</td>\n",
       "      <td>0.206107</td>\n",
       "      <td>0.165403</td>\n",
       "      <td>...</td>\n",
       "      <td>0.000000</td>\n",
       "      <td>0.000000</td>\n",
       "      <td>0.101112</td>\n",
       "      <td>0.000000</td>\n",
       "      <td>0.000000</td>\n",
       "      <td>0.215209</td>\n",
       "      <td>0.000000</td>\n",
       "      <td>0.000000</td>\n",
       "      <td>0.000000</td>\n",
       "      <td>0.206825</td>\n",
       "    </tr>\n",
       "    <tr>\n",
       "      <th>0.990</th>\n",
       "      <td>0.000000</td>\n",
       "      <td>0.247792</td>\n",
       "      <td>0.349744</td>\n",
       "      <td>0.263720</td>\n",
       "      <td>0.308743</td>\n",
       "      <td>0.318672</td>\n",
       "      <td>0.383893</td>\n",
       "      <td>0.314436</td>\n",
       "      <td>0.340334</td>\n",
       "      <td>0.308856</td>\n",
       "      <td>...</td>\n",
       "      <td>0.265087</td>\n",
       "      <td>0.146639</td>\n",
       "      <td>0.267694</td>\n",
       "      <td>0.321479</td>\n",
       "      <td>0.000000</td>\n",
       "      <td>0.325343</td>\n",
       "      <td>0.604304</td>\n",
       "      <td>0.270135</td>\n",
       "      <td>0.234240</td>\n",
       "      <td>0.329323</td>\n",
       "    </tr>\n",
       "    <tr>\n",
       "      <th>0.999</th>\n",
       "      <td>1.250229</td>\n",
       "      <td>0.703452</td>\n",
       "      <td>0.771685</td>\n",
       "      <td>0.573437</td>\n",
       "      <td>0.626520</td>\n",
       "      <td>0.646027</td>\n",
       "      <td>0.945352</td>\n",
       "      <td>0.762242</td>\n",
       "      <td>0.645050</td>\n",
       "      <td>0.628483</td>\n",
       "      <td>...</td>\n",
       "      <td>0.612473</td>\n",
       "      <td>0.621307</td>\n",
       "      <td>0.618991</td>\n",
       "      <td>0.945701</td>\n",
       "      <td>0.726664</td>\n",
       "      <td>0.620286</td>\n",
       "      <td>1.154122</td>\n",
       "      <td>0.736827</td>\n",
       "      <td>0.468425</td>\n",
       "      <td>0.746509</td>\n",
       "    </tr>\n",
       "  </tbody>\n",
       "</table>\n",
       "<p>4 rows × 51 columns</p>\n",
       "</div>"
      ],
      "text/plain": [
       "             男孩        芝士        一期        口感        小吃        没有        一定  \\\n",
       "0.950  0.000000  0.000000  0.000000  0.000000  0.000000  0.112314  0.163972   \n",
       "0.970  0.000000  0.000000  0.155331  0.000000  0.077942  0.182194  0.232110   \n",
       "0.990  0.000000  0.247792  0.349744  0.263720  0.308743  0.318672  0.383893   \n",
       "0.999  1.250229  0.703452  0.771685  0.573437  0.626520  0.646027  0.945352   \n",
       "\n",
       "             排骨        觉得        起来  ...        自制        蛋糕        小时  \\\n",
       "0.950  0.000000  0.122772  0.000000  ...  0.000000  0.000000  0.000000   \n",
       "0.970  0.000000  0.206107  0.165403  ...  0.000000  0.000000  0.101112   \n",
       "0.990  0.314436  0.340334  0.308856  ...  0.265087  0.146639  0.267694   \n",
       "0.999  0.762242  0.645050  0.628483  ...  0.612473  0.621307  0.618991   \n",
       "\n",
       "             面粉        牛排        感觉        粉丝        海鲜        配方        真的  \n",
       "0.950  0.000000  0.000000  0.145762  0.000000  0.000000  0.000000  0.133599  \n",
       "0.970  0.000000  0.000000  0.215209  0.000000  0.000000  0.000000  0.206825  \n",
       "0.990  0.321479  0.000000  0.325343  0.604304  0.270135  0.234240  0.329323  \n",
       "0.999  0.945701  0.726664  0.620286  1.154122  0.736827  0.468425  0.746509  \n",
       "\n",
       "[4 rows x 51 columns]"
      ]
     },
     "execution_count": 462,
     "metadata": {},
     "output_type": "execute_result"
    }
   ],
   "source": [
    "pd.DataFrame(similiar_weights_desc, columns = keywords_same_desc).quantile([0.95,0.97,0.99,0.999])"
   ]
  },
  {
   "cell_type": "code",
   "execution_count": 463,
   "metadata": {},
   "outputs": [
    {
     "data": {
      "text/html": [
       "<div>\n",
       "<style scoped>\n",
       "    .dataframe tbody tr th:only-of-type {\n",
       "        vertical-align: middle;\n",
       "    }\n",
       "\n",
       "    .dataframe tbody tr th {\n",
       "        vertical-align: top;\n",
       "    }\n",
       "\n",
       "    .dataframe thead th {\n",
       "        text-align: right;\n",
       "    }\n",
       "</style>\n",
       "<table border=\"1\" class=\"dataframe\">\n",
       "  <thead>\n",
       "    <tr style=\"text-align: right;\">\n",
       "      <th></th>\n",
       "      <th>早餐</th>\n",
       "      <th>做成</th>\n",
       "      <th>芝士</th>\n",
       "      <th>外卖</th>\n",
       "      <th>口感</th>\n",
       "      <th>居然</th>\n",
       "      <th>小吃</th>\n",
       "      <th>厨房</th>\n",
       "      <th>排骨</th>\n",
       "      <th>治愈</th>\n",
       "      <th>...</th>\n",
       "      <th>家常</th>\n",
       "      <th>月饼</th>\n",
       "      <th>粉丝</th>\n",
       "      <th>到底</th>\n",
       "      <th>海鲜</th>\n",
       "      <th>汉堡</th>\n",
       "      <th>配方</th>\n",
       "      <th>学会</th>\n",
       "      <th>真的</th>\n",
       "      <th>零食</th>\n",
       "    </tr>\n",
       "  </thead>\n",
       "  <tbody>\n",
       "    <tr>\n",
       "      <th>0.950</th>\n",
       "      <td>0.000000</td>\n",
       "      <td>0.000000</td>\n",
       "      <td>0.000000</td>\n",
       "      <td>0.000000</td>\n",
       "      <td>0.00000</td>\n",
       "      <td>0.000000</td>\n",
       "      <td>0.000000</td>\n",
       "      <td>0.000000</td>\n",
       "      <td>0.000000</td>\n",
       "      <td>0.000000</td>\n",
       "      <td>...</td>\n",
       "      <td>0.000000</td>\n",
       "      <td>0.000000</td>\n",
       "      <td>0.000000</td>\n",
       "      <td>0.000000</td>\n",
       "      <td>0.000000</td>\n",
       "      <td>0.000000</td>\n",
       "      <td>0.000000</td>\n",
       "      <td>0.000000</td>\n",
       "      <td>0.000000</td>\n",
       "      <td>0.000000</td>\n",
       "    </tr>\n",
       "    <tr>\n",
       "      <th>0.970</th>\n",
       "      <td>0.000000</td>\n",
       "      <td>0.000000</td>\n",
       "      <td>0.000000</td>\n",
       "      <td>0.000000</td>\n",
       "      <td>0.00000</td>\n",
       "      <td>0.170199</td>\n",
       "      <td>0.000000</td>\n",
       "      <td>0.000000</td>\n",
       "      <td>0.000000</td>\n",
       "      <td>0.000000</td>\n",
       "      <td>...</td>\n",
       "      <td>0.000000</td>\n",
       "      <td>0.000000</td>\n",
       "      <td>0.000000</td>\n",
       "      <td>0.000000</td>\n",
       "      <td>0.000000</td>\n",
       "      <td>0.000000</td>\n",
       "      <td>0.000000</td>\n",
       "      <td>0.000000</td>\n",
       "      <td>0.000000</td>\n",
       "      <td>0.000000</td>\n",
       "    </tr>\n",
       "    <tr>\n",
       "      <th>0.990</th>\n",
       "      <td>0.215375</td>\n",
       "      <td>0.175419</td>\n",
       "      <td>0.220403</td>\n",
       "      <td>0.243536</td>\n",
       "      <td>0.00000</td>\n",
       "      <td>0.261467</td>\n",
       "      <td>0.247761</td>\n",
       "      <td>0.000000</td>\n",
       "      <td>0.000000</td>\n",
       "      <td>0.228340</td>\n",
       "      <td>...</td>\n",
       "      <td>0.000000</td>\n",
       "      <td>0.000000</td>\n",
       "      <td>0.000000</td>\n",
       "      <td>0.000000</td>\n",
       "      <td>0.000000</td>\n",
       "      <td>0.000000</td>\n",
       "      <td>0.000000</td>\n",
       "      <td>0.000000</td>\n",
       "      <td>0.000000</td>\n",
       "      <td>0.248381</td>\n",
       "    </tr>\n",
       "    <tr>\n",
       "      <th>0.999</th>\n",
       "      <td>0.405798</td>\n",
       "      <td>0.435737</td>\n",
       "      <td>0.453109</td>\n",
       "      <td>0.404888</td>\n",
       "      <td>0.41506</td>\n",
       "      <td>0.407132</td>\n",
       "      <td>0.567004</td>\n",
       "      <td>0.378196</td>\n",
       "      <td>0.364649</td>\n",
       "      <td>0.435186</td>\n",
       "      <td>...</td>\n",
       "      <td>0.414052</td>\n",
       "      <td>0.414342</td>\n",
       "      <td>0.389642</td>\n",
       "      <td>0.483467</td>\n",
       "      <td>0.573213</td>\n",
       "      <td>0.458026</td>\n",
       "      <td>0.414993</td>\n",
       "      <td>0.374612</td>\n",
       "      <td>0.372806</td>\n",
       "      <td>0.554726</td>\n",
       "    </tr>\n",
       "  </tbody>\n",
       "</table>\n",
       "<p>4 rows × 75 columns</p>\n",
       "</div>"
      ],
      "text/plain": [
       "             早餐        做成        芝士        外卖       口感        居然        小吃  \\\n",
       "0.950  0.000000  0.000000  0.000000  0.000000  0.00000  0.000000  0.000000   \n",
       "0.970  0.000000  0.000000  0.000000  0.000000  0.00000  0.170199  0.000000   \n",
       "0.990  0.215375  0.175419  0.220403  0.243536  0.00000  0.261467  0.247761   \n",
       "0.999  0.405798  0.435737  0.453109  0.404888  0.41506  0.407132  0.567004   \n",
       "\n",
       "             厨房        排骨        治愈  ...        家常        月饼        粉丝  \\\n",
       "0.950  0.000000  0.000000  0.000000  ...  0.000000  0.000000  0.000000   \n",
       "0.970  0.000000  0.000000  0.000000  ...  0.000000  0.000000  0.000000   \n",
       "0.990  0.000000  0.000000  0.228340  ...  0.000000  0.000000  0.000000   \n",
       "0.999  0.378196  0.364649  0.435186  ...  0.414052  0.414342  0.389642   \n",
       "\n",
       "             到底        海鲜        汉堡        配方        学会        真的        零食  \n",
       "0.950  0.000000  0.000000  0.000000  0.000000  0.000000  0.000000  0.000000  \n",
       "0.970  0.000000  0.000000  0.000000  0.000000  0.000000  0.000000  0.000000  \n",
       "0.990  0.000000  0.000000  0.000000  0.000000  0.000000  0.000000  0.248381  \n",
       "0.999  0.483467  0.573213  0.458026  0.414993  0.374612  0.372806  0.554726  \n",
       "\n",
       "[4 rows x 75 columns]"
      ]
     },
     "execution_count": 463,
     "metadata": {},
     "output_type": "execute_result"
    }
   ],
   "source": [
    "pd.DataFrame(same_weights_title, columns = keywords_same_title).quantile([0.95,0.97,0.99,0.999])"
   ]
  },
  {
   "cell_type": "code",
   "execution_count": 464,
   "metadata": {},
   "outputs": [
    {
     "data": {
      "text/html": [
       "<div>\n",
       "<style scoped>\n",
       "    .dataframe tbody tr th:only-of-type {\n",
       "        vertical-align: middle;\n",
       "    }\n",
       "\n",
       "    .dataframe tbody tr th {\n",
       "        vertical-align: top;\n",
       "    }\n",
       "\n",
       "    .dataframe thead th {\n",
       "        text-align: right;\n",
       "    }\n",
       "</style>\n",
       "<table border=\"1\" class=\"dataframe\">\n",
       "  <thead>\n",
       "    <tr style=\"text-align: right;\">\n",
       "      <th></th>\n",
       "      <th>早餐</th>\n",
       "      <th>做成</th>\n",
       "      <th>芝士</th>\n",
       "      <th>外卖</th>\n",
       "      <th>口感</th>\n",
       "      <th>居然</th>\n",
       "      <th>小吃</th>\n",
       "      <th>厨房</th>\n",
       "      <th>排骨</th>\n",
       "      <th>治愈</th>\n",
       "      <th>...</th>\n",
       "      <th>家常</th>\n",
       "      <th>月饼</th>\n",
       "      <th>粉丝</th>\n",
       "      <th>到底</th>\n",
       "      <th>海鲜</th>\n",
       "      <th>汉堡</th>\n",
       "      <th>配方</th>\n",
       "      <th>学会</th>\n",
       "      <th>真的</th>\n",
       "      <th>零食</th>\n",
       "    </tr>\n",
       "  </thead>\n",
       "  <tbody>\n",
       "    <tr>\n",
       "      <th>0.950</th>\n",
       "      <td>0.000000</td>\n",
       "      <td>0.000000</td>\n",
       "      <td>0.000000</td>\n",
       "      <td>0.000000</td>\n",
       "      <td>0.000000</td>\n",
       "      <td>0.000000</td>\n",
       "      <td>0.000000</td>\n",
       "      <td>0.000000</td>\n",
       "      <td>0.000000</td>\n",
       "      <td>0.000000</td>\n",
       "      <td>...</td>\n",
       "      <td>0.000000</td>\n",
       "      <td>0.000000</td>\n",
       "      <td>0.000000</td>\n",
       "      <td>0.000000</td>\n",
       "      <td>0.000000</td>\n",
       "      <td>0.000000</td>\n",
       "      <td>0.000000</td>\n",
       "      <td>0.000000</td>\n",
       "      <td>0.000000</td>\n",
       "      <td>0.000000</td>\n",
       "    </tr>\n",
       "    <tr>\n",
       "      <th>0.970</th>\n",
       "      <td>0.000000</td>\n",
       "      <td>0.000000</td>\n",
       "      <td>0.000000</td>\n",
       "      <td>0.000000</td>\n",
       "      <td>0.000000</td>\n",
       "      <td>0.232890</td>\n",
       "      <td>0.000000</td>\n",
       "      <td>0.000000</td>\n",
       "      <td>0.000000</td>\n",
       "      <td>0.000000</td>\n",
       "      <td>...</td>\n",
       "      <td>0.000000</td>\n",
       "      <td>0.000000</td>\n",
       "      <td>0.000000</td>\n",
       "      <td>0.000000</td>\n",
       "      <td>0.000000</td>\n",
       "      <td>0.000000</td>\n",
       "      <td>0.000000</td>\n",
       "      <td>0.000000</td>\n",
       "      <td>0.216913</td>\n",
       "      <td>0.000000</td>\n",
       "    </tr>\n",
       "    <tr>\n",
       "      <th>0.990</th>\n",
       "      <td>0.378599</td>\n",
       "      <td>0.325967</td>\n",
       "      <td>0.393244</td>\n",
       "      <td>0.000000</td>\n",
       "      <td>0.338564</td>\n",
       "      <td>0.361253</td>\n",
       "      <td>0.329151</td>\n",
       "      <td>0.311064</td>\n",
       "      <td>0.386890</td>\n",
       "      <td>0.222506</td>\n",
       "      <td>...</td>\n",
       "      <td>0.336520</td>\n",
       "      <td>0.000000</td>\n",
       "      <td>0.294164</td>\n",
       "      <td>0.344626</td>\n",
       "      <td>0.345385</td>\n",
       "      <td>0.364933</td>\n",
       "      <td>0.308932</td>\n",
       "      <td>0.366230</td>\n",
       "      <td>0.341497</td>\n",
       "      <td>0.000000</td>\n",
       "    </tr>\n",
       "    <tr>\n",
       "      <th>0.999</th>\n",
       "      <td>0.808512</td>\n",
       "      <td>0.912393</td>\n",
       "      <td>0.941468</td>\n",
       "      <td>0.737097</td>\n",
       "      <td>0.682828</td>\n",
       "      <td>0.748722</td>\n",
       "      <td>0.651136</td>\n",
       "      <td>0.769966</td>\n",
       "      <td>0.776725</td>\n",
       "      <td>0.623054</td>\n",
       "      <td>...</td>\n",
       "      <td>0.754946</td>\n",
       "      <td>0.822498</td>\n",
       "      <td>0.617398</td>\n",
       "      <td>0.633590</td>\n",
       "      <td>0.699735</td>\n",
       "      <td>0.937148</td>\n",
       "      <td>0.666368</td>\n",
       "      <td>0.694099</td>\n",
       "      <td>0.584498</td>\n",
       "      <td>0.654375</td>\n",
       "    </tr>\n",
       "  </tbody>\n",
       "</table>\n",
       "<p>4 rows × 75 columns</p>\n",
       "</div>"
      ],
      "text/plain": [
       "             早餐        做成        芝士        外卖        口感        居然        小吃  \\\n",
       "0.950  0.000000  0.000000  0.000000  0.000000  0.000000  0.000000  0.000000   \n",
       "0.970  0.000000  0.000000  0.000000  0.000000  0.000000  0.232890  0.000000   \n",
       "0.990  0.378599  0.325967  0.393244  0.000000  0.338564  0.361253  0.329151   \n",
       "0.999  0.808512  0.912393  0.941468  0.737097  0.682828  0.748722  0.651136   \n",
       "\n",
       "             厨房        排骨        治愈  ...        家常        月饼        粉丝  \\\n",
       "0.950  0.000000  0.000000  0.000000  ...  0.000000  0.000000  0.000000   \n",
       "0.970  0.000000  0.000000  0.000000  ...  0.000000  0.000000  0.000000   \n",
       "0.990  0.311064  0.386890  0.222506  ...  0.336520  0.000000  0.294164   \n",
       "0.999  0.769966  0.776725  0.623054  ...  0.754946  0.822498  0.617398   \n",
       "\n",
       "             到底        海鲜        汉堡        配方        学会        真的        零食  \n",
       "0.950  0.000000  0.000000  0.000000  0.000000  0.000000  0.000000  0.000000  \n",
       "0.970  0.000000  0.000000  0.000000  0.000000  0.000000  0.216913  0.000000  \n",
       "0.990  0.344626  0.345385  0.364933  0.308932  0.366230  0.341497  0.000000  \n",
       "0.999  0.633590  0.699735  0.937148  0.666368  0.694099  0.584498  0.654375  \n",
       "\n",
       "[4 rows x 75 columns]"
      ]
     },
     "execution_count": 464,
     "metadata": {},
     "output_type": "execute_result"
    }
   ],
   "source": [
    "pd.DataFrame(similiar_weights_title, columns = keywords_same_title).quantile([0.95,0.97,0.99,0.999])"
   ]
  },
  {
   "cell_type": "markdown",
   "metadata": {},
   "source": [
    "## Reference\n",
    "[`NLP关键词提取方法总结及实现`](https://blog.csdn.net/asialee_bird/article/details/96454544)\n",
    "\n",
    "[`jiaba关键词提取提速策略&基于word2vec的关键词提取方法&python中文编码问题&人人网的关键词提取策略`](https://www.jianshu.com/p/695eb0fd3745)\n",
    "\n",
    "[`关键词抽取、Word2Vec词向量`](https://zhuanlan.zhihu.com/p/38162556)\n",
    "\n",
    "[`“结巴”中文分词`](https://github.com/fxsjy/jieba)"
   ]
  }
 ],
 "metadata": {
  "kernelspec": {
   "display_name": "1011",
   "language": "python",
   "name": "1011"
  },
  "language_info": {
   "codemirror_mode": {
    "name": "ipython",
    "version": 3
   },
   "file_extension": ".py",
   "mimetype": "text/x-python",
   "name": "python",
   "nbconvert_exporter": "python",
   "pygments_lexer": "ipython3",
   "version": "3.8.3"
  }
 },
 "nbformat": 4,
 "nbformat_minor": 4
}
